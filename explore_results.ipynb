{
 "cells": [
  {
   "cell_type": "code",
   "execution_count": 13,
   "metadata": {},
   "outputs": [],
   "source": [
    "import json\n",
    "import glob\n",
    "import os\n",
    "import pprint"
   ]
  },
  {
   "cell_type": "code",
   "execution_count": 16,
   "metadata": {
    "scrolled": false
   },
   "outputs": [
    {
     "name": "stdout",
     "output_type": "stream",
     "text": [
      "{'E003': 0.745847318592566,\n",
      " 'E004': 0.8058451825105136,\n",
      " 'E005': 0.7936325930610568,\n",
      " 'E006': 0.806647336126011,\n",
      " 'E007': 0.7609787583908195,\n",
      " 'E011': 0.7173270325942082,\n",
      " 'E012': 0.7554670575691131,\n",
      " 'E013': 0.784652078209807,\n",
      " 'E016': 0.7735615502090835,\n",
      " 'E024': 0.7472727091752435,\n",
      " 'E027': 0.7959108048445092,\n",
      " 'E028': 0.8037928243728552,\n",
      " 'E037': 0.8083153335423019,\n",
      " 'E038': 0.815753848686733,\n",
      " 'E047': 0.8195230451550826,\n",
      " 'E050': 0.7732478324425118,\n",
      " 'E053': 0.7887632823879429,\n",
      " 'E054': 0.7904108316169007,\n",
      " 'E055': 0.8211890201993293,\n",
      " 'E056': 0.9034613571650609,\n",
      " 'E057': 0.8927581676259624,\n",
      " 'E058': 0.8323728081936923,\n",
      " 'E059': 0.8925073734947577,\n",
      " 'E061': 0.8229844903452105,\n",
      " 'E062': 0.8037907779436811,\n",
      " 'E065': 0.7534362015863221,\n",
      " 'E066': 0.7479582367926594,\n",
      " 'E070': 0.7574590324126502,\n",
      " 'E071': 0.7068137273078383,\n",
      " 'E079': 0.7092780289646774,\n",
      " 'E082': 0.7535520120156477,\n",
      " 'E084': 0.6443977688284035,\n",
      " 'E085': 0.7068155634327551,\n",
      " 'E087': 0.7390698927597478,\n",
      " 'E094': 0.7007471605189478,\n",
      " 'E095': 0.8110652920125915,\n",
      " 'E096': 0.6974843637908579,\n",
      " 'E097': 0.7224159042264161,\n",
      " 'E098': 0.7048507423329897,\n",
      " 'E100': 0.8958312563570459,\n",
      " 'E104': 0.7585338028722471,\n",
      " 'E105': 0.7826398690504196,\n",
      " 'E106': 0.694005339651635,\n",
      " 'E109': 0.7136322291497841,\n",
      " 'E112': 0.5976988543618527,\n",
      " 'E113': 0.7259547526311428,\n",
      " 'E114': 0.8334490088552019,\n",
      " 'E116': 0.9033724650048475,\n",
      " 'E117': 0.913578120584258,\n",
      " 'E118': 0.8306881783182436,\n",
      " 'E119': 0.8240909504542464,\n",
      " 'E120': 0.8045935999468323,\n",
      " 'E122': 0.8305345292839696,\n",
      " 'E123': 0.919341560945985,\n",
      " 'E127': 0.8153701775520532,\n",
      " 'E128': 0.8237739433959471}\n"
     ]
    }
   ],
   "source": [
    "files = \"/accounts/projects/jsteinhardt/sauravkadavath/gene_expression_294/checkpoints/original/\"\n",
    "\n",
    "def get_all_results():\n",
    "    folders = os.listdir(files)\n",
    "    all_cell_results = dict()\n",
    "    for cell_name in folders:\n",
    "        cell_dir = os.path.join(files, cell_name)\n",
    "        with open(os.path.join(cell_dir, \"test_results.json\"), 'r') as f:\n",
    "            cell_results = json.load(f)\n",
    "        all_cell_results[cell_name] = cell_results['test_auroc']\n",
    "    return all_cell_results\n",
    "\n",
    "results = get_all_results()\n",
    "print(pprint.pformat(results))"
   ]
  },
  {
   "cell_type": "code",
   "execution_count": 17,
   "metadata": {},
   "outputs": [
    {
     "name": "stdout",
     "output_type": "stream",
     "text": [
      "Mean =  0.7835436782116637\n"
     ]
    }
   ],
   "source": [
    "scores = [v for k, v in results.items()]\n",
    "mean = sum(scores) / len(scores)\n",
    "print(\"Mean = \", mean)"
   ]
  },
  {
   "cell_type": "code",
   "execution_count": null,
   "metadata": {},
   "outputs": [],
   "source": []
  }
 ],
 "metadata": {
  "kernelspec": {
   "display_name": "saurav-main-env",
   "language": "python",
   "name": "saurav-main-env"
  },
  "language_info": {
   "codemirror_mode": {
    "name": "ipython",
    "version": 3
   },
   "file_extension": ".py",
   "mimetype": "text/x-python",
   "name": "python",
   "nbconvert_exporter": "python",
   "pygments_lexer": "ipython3",
   "version": "3.7.5"
  }
 },
 "nbformat": 4,
 "nbformat_minor": 2
}
