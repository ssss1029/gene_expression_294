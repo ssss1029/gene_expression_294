{
 "cells": [
  {
   "cell_type": "code",
   "execution_count": 294,
   "metadata": {},
   "outputs": [],
   "source": [
    "import json\n",
    "import glob\n",
    "import os\n",
    "import pprint"
   ]
  },
  {
   "cell_type": "code",
   "execution_count": 295,
   "metadata": {},
   "outputs": [
    {
     "name": "stdout",
     "output_type": "stream",
     "text": [
      "{'E003_E003': 0.6358943934311846,\n",
      " 'E004_E004': 0.8022984282124821,\n",
      " 'E005_E005': 0.8118904587470094,\n",
      " 'E006_E006': 0.8153518342233294,\n",
      " 'E007_E007': 0.7623321799590835,\n",
      " 'E011_E011': 0.7173569926419451,\n",
      " 'E012_E012': 0.7640205791001643,\n",
      " 'E013_E013': 0.7785331000709825,\n",
      " 'E016_E016': 0.7287857281618103,\n",
      " 'E024_E024': 0.7277119338169843,\n",
      " 'E027_E027': 0.7730616701803507,\n",
      " 'E028_E028': 0.7941627976280863,\n",
      " 'E037_E037': 0.8100563075257174,\n",
      " 'E038_E038': 0.8029721040690305,\n",
      " 'E047_E047': 0.823388727584606,\n",
      " 'E050_E050': 0.7532866323959093,\n",
      " 'E053_E053': 0.7506769522061408,\n",
      " 'E054_E054': 0.7675695595185636,\n",
      " 'E055_E055': 0.7873929218447969,\n",
      " 'E056_E056': 0.8988726210948433,\n",
      " 'E057_E057': 0.8877385052953535,\n",
      " 'E058_E058': 0.8371821338524659,\n",
      " 'E059_E059': 0.8919043133803709,\n",
      " 'E061_E061': 0.8234134408834187,\n",
      " 'E062_E062': 0.8106149742086094,\n",
      " 'E065_E065': 0.653333394950957,\n",
      " 'E066_E066': 0.7959124750723334,\n",
      " 'E070_E070': 0.6964344612303796,\n",
      " 'E071_E071': 0.6942162408001645,\n",
      " 'E079_E079': 0.7034657138199373,\n",
      " 'E082_E082': 0.7211168385146416,\n",
      " 'E084_E084': 0.6861364741008193,\n",
      " 'E085_E085': 0.6803658343179831,\n",
      " 'E087_E087': 0.7370013962625512,\n",
      " 'E094_E094': 0.711367060614194,\n",
      " 'E095_E095': 0.6878352727020519,\n",
      " 'E096_E096': 0.7179744144257088,\n",
      " 'E097_E097': 0.7019278191415264,\n",
      " 'E098_E098': 0.7081740078908361,\n",
      " 'E100_E100': 0.8890420162896211,\n",
      " 'E104_E104': 0.7340027077635841,\n",
      " 'E105_E105': 0.7673004811192885,\n",
      " 'E106_E106': 0.7510891344098483,\n",
      " 'E109_E109': 0.718017430995419,\n",
      " 'E112_E112': 0.4714917959345454,\n",
      " 'E113_E113': 0.7206037126046242,\n",
      " 'E114_E114': 0.8371366381883882,\n",
      " 'E116_E116': 0.9052226809451696,\n",
      " 'E117_E117': 0.9076986256961759,\n",
      " 'E118_E118': 0.8344512599367074,\n",
      " 'E119_E119': 0.820017519793567,\n",
      " 'E120_E120': 0.8298602094899469,\n",
      " 'E122_E122': 0.8223320918948758,\n",
      " 'E123_E123': 0.916560600922008,\n",
      " 'E127_E127': 0.8256527266121716}\n",
      "55\n"
     ]
    }
   ],
   "source": [
    "files = \"/accounts/projects/jsteinhardt/sauravkadavath/gene_expression_294/checkpoints/deepchrome/\"\n",
    "\n",
    "def get_all_results_new():\n",
    "    folders = os.listdir(files)\n",
    "    all_cell_results = dict()\n",
    "    for cell_name in folders:\n",
    "        cell_dir = os.path.join(files, cell_name)\n",
    "        fname = os.path.join(cell_dir, \"test_results.json\")\n",
    "        if os.path.exists(fname):\n",
    "            with open(fname, 'r') as f:\n",
    "                cell_results = json.load(f)\n",
    "            assert len(cell_results.keys()) == 1\n",
    "            cname = list(cell_results.keys())[0]\n",
    "            all_cell_results[f\"{cell_name}_{cname}\"] = cell_results[cname]['test_auroc']\n",
    "    return all_cell_results\n",
    "\n",
    "def get_all_results_old():\n",
    "    folders = os.listdir(files)\n",
    "    all_cell_results = dict()\n",
    "    for cell_name in folders:\n",
    "        cell_dir = os.path.join(files, cell_name)\n",
    "        fname = os.path.join(cell_dir, \"test_results.json\")\n",
    "        if os.path.exists(fname):\n",
    "            with open(fname, 'r') as f:\n",
    "                cell_results = json.load(f)\n",
    "            all_cell_results[cell_name] = cell_results['test_auroc']\n",
    "    return all_cell_results\n",
    "\n",
    "results = get_all_results_new()\n",
    "print(pprint.pformat(results))\n",
    "print(len(results))"
   ]
  },
  {
   "cell_type": "code",
   "execution_count": 296,
   "metadata": {},
   "outputs": [
    {
     "name": "stdout",
     "output_type": "stream",
     "text": [
      "Mean =  0.7709492786631503\n"
     ]
    }
   ],
   "source": [
    "scores = [v for k, v in results.items()]\n",
    "mean = sum(scores) / len(scores)\n",
    "print(\"Mean = \", mean)"
   ]
  },
  {
   "cell_type": "code",
   "execution_count": null,
   "metadata": {},
   "outputs": [],
   "source": []
  },
  {
   "cell_type": "code",
   "execution_count": null,
   "metadata": {},
   "outputs": [],
   "source": []
  }
 ],
 "metadata": {
  "kernelspec": {
   "display_name": "saurav-main-env",
   "language": "python",
   "name": "saurav-main-env"
  },
  "language_info": {
   "codemirror_mode": {
    "name": "ipython",
    "version": 3
   },
   "file_extension": ".py",
   "mimetype": "text/x-python",
   "name": "python",
   "nbconvert_exporter": "python",
   "pygments_lexer": "ipython3",
   "version": "3.7.5"
  }
 },
 "nbformat": 4,
 "nbformat_minor": 2
}
