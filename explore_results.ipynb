{
 "cells": [
  {
   "cell_type": "code",
   "execution_count": 63,
   "metadata": {},
   "outputs": [],
   "source": [
    "import json\n",
    "import glob\n",
    "import os\n",
    "import pprint"
   ]
  },
  {
   "cell_type": "code",
   "execution_count": 64,
   "metadata": {},
   "outputs": [
    {
     "name": "stdout",
     "output_type": "stream",
     "text": [
      "{'E003': 0.7643554600656244,\n",
      " 'E004': 0.801283004202968,\n",
      " 'E005': 0.8164462711316122,\n",
      " 'E006': 0.8167465345300124,\n",
      " 'E007': 0.788437260129348,\n",
      " 'E011': 0.7721204742484675,\n",
      " 'E012': 0.7882159757024757,\n",
      " 'E013': 0.8004023775551906,\n",
      " 'E016': 0.7706462938568193,\n",
      " 'E024': 0.7484389885988437,\n",
      " 'E027': 0.7916226125965279,\n",
      " 'E028': 0.7936906357244814,\n",
      " 'E037': 0.8114993303507823,\n",
      " 'E038': 0.8119122661807227,\n",
      " 'E047': 0.8276853790875461,\n",
      " 'E050': 0.7880959671120105,\n",
      " 'E053': 0.7539009672320682,\n",
      " 'E054': 0.7851978977630296,\n",
      " 'E055': 0.8131416275689989,\n",
      " 'E056': 0.8839921525106711,\n",
      " 'E057': 0.8411502667584106,\n",
      " 'E058': 0.7852333767850287,\n",
      " 'E059': 0.8095936035883498,\n",
      " 'E061': 0.8217910674314906,\n",
      " 'E062': 0.7571680351965193,\n",
      " 'E065': 0.6414560291896902,\n",
      " 'E066': 0.8081829268058389,\n",
      " 'E070': 0.6904753873213983,\n",
      " 'E071': 0.7362789596495194,\n",
      " 'E079': 0.7235138385683345,\n",
      " 'E082': 0.7020600932423363,\n",
      " 'E084': 0.7075098558842136,\n",
      " 'E085': 0.6752566315600461,\n",
      " 'E087': 0.6554334959944338,\n",
      " 'E094': 0.4819683164181542,\n",
      " 'E095': 0.703431909966891,\n",
      " 'E096': 0.7178091720818793,\n",
      " 'E097': 0.7351040638850882,\n",
      " 'E098': 0.3638990521441694,\n",
      " 'E100': 0.8390762102286929,\n",
      " 'E104': 0.6325262297179004,\n",
      " 'E105': 0.7929562791948113,\n",
      " 'E106': 0.6280827903542885,\n",
      " 'E109': 0.7139292506656524,\n",
      " 'E112': 0.697499958298549,\n",
      " 'E113': 0.72174301814867,\n",
      " 'E114': 0.825790685852538,\n",
      " 'E116': 0.8799908656041923,\n",
      " 'E117': 0.8775153365527404,\n",
      " 'E118': 0.8466041375482192,\n",
      " 'E119': 0.8293150629565397,\n",
      " 'E120': 0.8291428025510967,\n",
      " 'E122': 0.8310357245238585,\n",
      " 'E123': 0.9003413164443147,\n",
      " 'E127': 0.8340083938782403}\n",
      "55\n"
     ]
    }
   ],
   "source": [
    "files = \"/accounts/projects/jsteinhardt/sauravkadavath/gene_expression_294/checkpoints/inclusive_somewhat/\"\n",
    "\n",
    "def get_all_results():\n",
    "    folders = os.listdir(files)\n",
    "    all_cell_results = dict()\n",
    "    for cell_name in folders:\n",
    "        cell_dir = os.path.join(files, cell_name)\n",
    "        fname = os.path.join(cell_dir, \"test_results.json\")\n",
    "        if os.path.exists(fname):\n",
    "            with open(fname, 'r') as f:\n",
    "                cell_results = json.load(f)\n",
    "            all_cell_results[cell_name] = cell_results['test_auroc']\n",
    "    return all_cell_results\n",
    "\n",
    "results = get_all_results()\n",
    "print(pprint.pformat(results))\n",
    "print(len(results))"
   ]
  },
  {
   "cell_type": "code",
   "execution_count": 65,
   "metadata": {},
   "outputs": [
    {
     "name": "stdout",
     "output_type": "stream",
     "text": [
      "Mean =  0.7629946476570963\n"
     ]
    }
   ],
   "source": [
    "scores = [v for k, v in results.items()]\n",
    "mean = sum(scores) / len(scores)\n",
    "print(\"Mean = \", mean)"
   ]
  },
  {
   "cell_type": "code",
   "execution_count": null,
   "metadata": {},
   "outputs": [],
   "source": []
  },
  {
   "cell_type": "code",
   "execution_count": null,
   "metadata": {},
   "outputs": [],
   "source": []
  }
 ],
 "metadata": {
  "kernelspec": {
   "display_name": "saurav-main-env",
   "language": "python",
   "name": "saurav-main-env"
  },
  "language_info": {
   "codemirror_mode": {
    "name": "ipython",
    "version": 3
   },
   "file_extension": ".py",
   "mimetype": "text/x-python",
   "name": "python",
   "nbconvert_exporter": "python",
   "pygments_lexer": "ipython3",
   "version": "3.7.5"
  }
 },
 "nbformat": 4,
 "nbformat_minor": 2
}
