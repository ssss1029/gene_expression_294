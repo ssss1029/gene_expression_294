{
 "cells": [
  {
   "cell_type": "code",
   "execution_count": 6,
   "metadata": {},
   "outputs": [],
   "source": [
    "import json\n",
    "import glob\n",
    "import os\n",
    "import pprint"
   ]
  },
  {
   "cell_type": "code",
   "execution_count": 7,
   "metadata": {},
   "outputs": [
    {
     "name": "stdout",
     "output_type": "stream",
     "text": [
      "{'E112': 0.45816579940887203}\n"
     ]
    }
   ],
   "source": [
    "files = \"/accounts/projects/jsteinhardt/sauravkadavath/gene_expression_294/checkpoints/original/\"\n",
    "\n",
    "def get_all_results():\n",
    "    folders = os.listdir(files)\n",
    "    all_cell_results = dict()\n",
    "    for cell_name in folders:\n",
    "        cell_dir = os.path.join(files, cell_name)\n",
    "        fname = os.path.join(cell_dir, \"test_results.json\")\n",
    "        if os.path.exists(fname):\n",
    "            with open(fname, 'r') as f:\n",
    "                cell_results = json.load(f)\n",
    "            all_cell_results[cell_name] = cell_results['test_auroc']\n",
    "    return all_cell_results\n",
    "\n",
    "results = get_all_results()\n",
    "print(pprint.pformat(results))"
   ]
  },
  {
   "cell_type": "code",
   "execution_count": 8,
   "metadata": {},
   "outputs": [
    {
     "name": "stdout",
     "output_type": "stream",
     "text": [
      "Mean =  0.45816579940887203\n"
     ]
    }
   ],
   "source": [
    "scores = [v for k, v in results.items()]\n",
    "mean = sum(scores) / len(scores)\n",
    "print(\"Mean = \", mean)"
   ]
  },
  {
   "cell_type": "code",
   "execution_count": null,
   "metadata": {},
   "outputs": [],
   "source": []
  },
  {
   "cell_type": "code",
   "execution_count": null,
   "metadata": {},
   "outputs": [],
   "source": []
  }
 ],
 "metadata": {
  "kernelspec": {
   "display_name": "saurav-main-env",
   "language": "python",
   "name": "saurav-main-env"
  },
  "language_info": {
   "codemirror_mode": {
    "name": "ipython",
    "version": 3
   },
   "file_extension": ".py",
   "mimetype": "text/x-python",
   "name": "python",
   "nbconvert_exporter": "python",
   "pygments_lexer": "ipython3",
   "version": "3.7.5"
  }
 },
 "nbformat": 4,
 "nbformat_minor": 2
}
