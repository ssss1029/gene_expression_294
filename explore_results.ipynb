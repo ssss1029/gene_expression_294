{
 "cells": [
  {
   "cell_type": "code",
   "execution_count": 77,
   "metadata": {},
   "outputs": [],
   "source": [
    "import json\n",
    "import glob\n",
    "import os\n",
    "import pprint"
   ]
  },
  {
   "cell_type": "code",
   "execution_count": 78,
   "metadata": {},
   "outputs": [
    {
     "name": "stdout",
     "output_type": "stream",
     "text": [
      "{'E003': 0.7508965482252021,\n",
      " 'E004': 0.7538585866242883,\n",
      " 'E005': 0.6313912563127486,\n",
      " 'E006': 0.698997585380884,\n",
      " 'E007': 0.4042019571839372,\n",
      " 'E011': 0.5307978501798433,\n",
      " 'E012': 0.6800426329651768,\n",
      " 'E013': 0.6242267568168293,\n",
      " 'E016': 0.5245854136504726,\n",
      " 'E024': 0.6440585443262966,\n",
      " 'E027': 0.7899647764504736,\n",
      " 'E028': 0.5628569093183406,\n",
      " 'E037': 0.7692217821217906,\n",
      " 'E038': 0.7327489636849963,\n",
      " 'E047': 0.7946139544503684,\n",
      " 'E050': 0.7056878906610944,\n",
      " 'E053': 0.7602318656044891,\n",
      " 'E054': 0.6050693307390914,\n",
      " 'E055': 0.7545334610939888,\n",
      " 'E056': 0.8852901538086724,\n",
      " 'E057': 0.7763754953866006,\n",
      " 'E058': 0.7309730720414077,\n",
      " 'E059': 0.8688182029254702,\n",
      " 'E061': 0.7871894660488439,\n",
      " 'E062': 0.6706467295618878,\n",
      " 'E065': 0.5474195250134374,\n",
      " 'E066': 0.783832943328223,\n",
      " 'E070': 0.6426062908437676,\n",
      " 'E071': 0.7135644844105264,\n",
      " 'E079': 0.45266457732397786,\n",
      " 'E082': 0.7508880191720565,\n",
      " 'E084': 0.6085317047015075,\n",
      " 'E085': 0.4000222324455428,\n",
      " 'E087': 0.46456553559727176,\n",
      " 'E094': 0.5608852741892193,\n",
      " 'E095': 0.7717904897722281,\n",
      " 'E096': 0.5863986745787974,\n",
      " 'E097': 0.6073688741643023,\n",
      " 'E098': 0.7321548782901492,\n",
      " 'E100': 0.8544563403434737,\n",
      " 'E104': 0.597274093619616,\n",
      " 'E105': 0.6777748372931859,\n",
      " 'E106': 0.6591742426193481,\n",
      " 'E109': 0.580169265880563,\n",
      " 'E112': 0.340292279512514,\n",
      " 'E113': 0.41444178337614984,\n",
      " 'E114': 0.8262264922322159,\n",
      " 'E116': 0.8982727278190428,\n",
      " 'E117': 0.864643255014684,\n",
      " 'E118': 0.741165259080322,\n",
      " 'E119': 0.7067983043143853,\n",
      " 'E120': 0.7644480654341589,\n",
      " 'E122': 0.5996770246226524,\n",
      " 'E123': 0.8616289135055625,\n",
      " 'E127': 0.809217246384603}\n",
      "55\n"
     ]
    }
   ],
   "source": [
    "files = \"/accounts/projects/jsteinhardt/sauravkadavath/gene_expression_294/checkpoints/deepchrome/\"\n",
    "\n",
    "def get_all_results():\n",
    "    folders = os.listdir(files)\n",
    "    all_cell_results = dict()\n",
    "    for cell_name in folders:\n",
    "        cell_dir = os.path.join(files, cell_name)\n",
    "        fname = os.path.join(cell_dir, \"test_results.json\")\n",
    "        if os.path.exists(fname):\n",
    "            with open(fname, 'r') as f:\n",
    "                cell_results = json.load(f)\n",
    "            all_cell_results[cell_name] = cell_results['test_auroc']\n",
    "    return all_cell_results\n",
    "\n",
    "results = get_all_results()\n",
    "print(pprint.pformat(results))\n",
    "print(len(results))"
   ]
  },
  {
   "cell_type": "code",
   "execution_count": 79,
   "metadata": {},
   "outputs": [
    {
     "name": "stdout",
     "output_type": "stream",
     "text": [
      "Mean =  0.6773751421899398\n"
     ]
    }
   ],
   "source": [
    "scores = [v for k, v in results.items()]\n",
    "mean = sum(scores) / len(scores)\n",
    "print(\"Mean = \", mean)"
   ]
  },
  {
   "cell_type": "code",
   "execution_count": null,
   "metadata": {},
   "outputs": [],
   "source": []
  },
  {
   "cell_type": "code",
   "execution_count": null,
   "metadata": {},
   "outputs": [],
   "source": []
  }
 ],
 "metadata": {
  "kernelspec": {
   "display_name": "saurav-main-env",
   "language": "python",
   "name": "saurav-main-env"
  },
  "language_info": {
   "codemirror_mode": {
    "name": "ipython",
    "version": 3
   },
   "file_extension": ".py",
   "mimetype": "text/x-python",
   "name": "python",
   "nbconvert_exporter": "python",
   "pygments_lexer": "ipython3",
   "version": "3.7.5"
  }
 },
 "nbformat": 4,
 "nbformat_minor": 2
}
