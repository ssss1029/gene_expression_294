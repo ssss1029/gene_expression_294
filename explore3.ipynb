{
 "cells": [
  {
   "cell_type": "code",
   "execution_count": 59,
   "metadata": {
    "code_folding": []
   },
   "outputs": [
    {
     "data": {
      "text/html": [
       "<style>.container { width:90% !important; }</style>"
      ],
      "text/plain": [
       "<IPython.core.display.HTML object>"
      ]
     },
     "metadata": {},
     "output_type": "display_data"
    }
   ],
   "source": [
    "import json\n",
    "import glob\n",
    "import os\n",
    "import pprint\n",
    "import numpy as np\n",
    "from matplotlib import pyplot as plt\n",
    "import matplotlib.cm as cm\n",
    "import matplotlib\n",
    "from IPython.core.display import display, HTML\n",
    "display(HTML(\"<style>.container { width:90% !important; }</style>\"))\n",
    "from sklearn.preprocessing import normalize\n"
   ]
  },
  {
   "cell_type": "code",
   "execution_count": 60,
   "metadata": {},
   "outputs": [],
   "source": [
    "files = [\n",
    "    \"/accounts/projects/jsteinhardt/sauravkadavath/gene_expression_294_original/checkpoints/deepchrome/*/test_results.json\",\n",
    "    \"/accounts/projects/jsteinhardt/sauravkadavath/gene_expression_294_original/checkpoints/exclusive_high/*/test_results.json\",\n",
    "    \"/accounts/projects/jsteinhardt/sauravkadavath/gene_expression_294_original/checkpoints/inclusive_high/*/test_results.json\",\n",
    "    \"/accounts/projects/jsteinhardt/sauravkadavath/gene_expression_294_original/checkpoints/exclusive_somewhat/*/test_results.json\",\n",
    "    \"/accounts/projects/jsteinhardt/sauravkadavath/gene_expression_294_original/checkpoints/inclusive_somewhat/*/test_results.json\",\n",
    "    \"/accounts/projects/jsteinhardt/sauravkadavath/gene_expression_294_original/checkpoints/exclusive_random/*/test_results.json\",\n",
    "    \"/accounts/projects/jsteinhardt/sauravkadavath/gene_expression_294_original/checkpoints/inclusive_random/*/test_results.json\",\n",
    "    \"/accounts/projects/jsteinhardt/sauravkadavath/gene_expression_294_original/checkpoints/exclusive_all/*/test_results.json\",\n",
    "]\n",
    "\n",
    "\n",
    "def get_results(globstr):\n",
    "    all_results = dict()\n",
    "    for fname in glob.glob(globstr):\n",
    "        cell_id = fname.split(\"/\")[-2]\n",
    "        with open(fname, 'r') as f:\n",
    "            results = json.load(f)\n",
    "        all_results[cell_id] = results[cell_id]['test_auroc']\n",
    "    return all_results\n",
    "\n",
    "def get_inclusive_all_results():\n",
    "    with open(\"/accounts/projects/jsteinhardt/sauravkadavath/gene_expression_294_original/checkpoints/inclusive_all/test_results.json\", 'r') as f:\n",
    "        results = json.load(f)\n",
    "    return results\n",
    "    "
   ]
  },
  {
   "cell_type": "code",
   "execution_count": 61,
   "metadata": {
    "code_folding": [
     1
    ]
   },
   "outputs": [],
   "source": [
    "all_cells = [\n",
    "    \"E104\",\n",
    "    \"E094\",\n",
    "    \"E098\",\n",
    "    \"E100\",\n",
    "    \"E085\",\n",
    "    \"E087\",\n",
    "    \"E097\",\n",
    "    \"E106\",\n",
    "    \"E065\",\n",
    "    \"E105\",\n",
    "    \"E066\",\n",
    "    \"E114\",\n",
    "    \"E116\",\n",
    "    \"E118\",\n",
    "    \"E119\",\n",
    "    \"E120\",\n",
    "    \"E122\",\n",
    "    \"E079\",\n",
    "    \"E123\",\n",
    "    \"E113\",\n",
    "    \"E003\",\n",
    "    \"E127\",\n",
    "    \"E027\",\n",
    "    \"E004\",\n",
    "    \"E006\",\n",
    "    \"E057\",\n",
    "    \"E056\",\n",
    "    \"E055\",\n",
    "    \"E007\",\n",
    "    \"E054\",\n",
    "    \"E058\",\n",
    "    \"E011\",\n",
    "    \"E053\",\n",
    "    \"E050\",\n",
    "    \"E012\",\n",
    "    \"E013\",\n",
    "    \"E016\",\n",
    "    \"E059\",\n",
    "    \"E024\",\n",
    "    \"E117\",\n",
    "    \"E070\",\n",
    "    \"E071\",\n",
    "    \"E038\",\n",
    "    \"E096\",\n",
    "    \"E109\",\n",
    "    \"E112\",\n",
    "    \"E095\",\n",
    "    \"E047\",\n",
    "    \"E084\",\n",
    "    \"E082\",\n",
    "    \"E062\",\n",
    "    \"E005\",\n",
    "    \"E061\",\n",
    "    \"E028\",\n",
    "    \"E037\"\n",
    "]\n",
    "\n",
    "matrix = np.ones((len(files) + 1, len(all_cells))) * np.nan\n",
    "for i, globstr in enumerate(files):\n",
    "    exp_results = get_results(globstr)\n",
    "    exp_name = globstr.split(\"/\")[-3]\n",
    "    for cid, auroc in exp_results.items():\n",
    "        matrix[i][all_cells.index(cid)] = auroc\n",
    "\n",
    "for cid, results in get_inclusive_all_results().items():\n",
    "    matrix[-1][all_cells.index(cid)] = results['test_auroc']\n"
   ]
  },
  {
   "cell_type": "code",
   "execution_count": 62,
   "metadata": {
    "scrolled": false
   },
   "outputs": [
    {
     "name": "stdout",
     "output_type": "stream",
     "text": [
      "(9, 55)\n"
     ]
    },
    {
     "data": {
      "image/png": "[encoded data removed]",
      "text/plain": [
       "<Figure size 1440x720 with 1 Axes>"
      ]
     },
     "metadata": {
      "needs_background": "light"
     },
     "output_type": "display_data"
    }
   ],
   "source": [
    "print(matrix.shape)\n",
    "# Sub norm\n",
    "# for i in range(len(all_cells)):\n",
    "#     for j in {1,2,3,4,5,6,7,8}:\n",
    "#         # print(i, j, matrix[j][i], matrix[0][i])\n",
    "#         matrix[j][i] = matrix[j][i] - matrix[0][i]\n",
    "#         # print(i, j, matrix[j][i])\n",
    "#     matrix[0][i] = 0\n",
    "\n",
    "\n",
    "for i in range(len(all_cells)):\n",
    "    cell_avg = 0\n",
    "    non_nans = 0\n",
    "    for j in {1,2,3,4,5,6,7,8}:\n",
    "        if not (matrix[j][i] != matrix[j][i]):\n",
    "            non_nans += 1\n",
    "            cell_avg += matrix[j][i]\n",
    "    \n",
    "    matrix[:,i] /= (cell_avg / non_nans)\n",
    "\n",
    "matrix = np.ma.masked_invalid(matrix)\n",
    "fig, ax = plt.subplots()\n",
    "ax.figure.set_size_inches(20, 10)\n",
    "ax.imshow(matrix, norm=matplotlib.colors.Normalize(vmax=1.05, vmin=0.9))\n",
    "ax.patch.set(hatch='xxxx', edgecolor='gray')\n",
    "# plt.colorbar()\n",
    "plt.xticks(range(len(all_cells)), all_cells, rotation=90)\n",
    "plt.yticks(range(len(files) + 1), [f.split(\"/\")[-3] for f in files] + [\"inclusive_all\"], rotation=0)\n",
    "plt.rcParams['xtick.bottom'] = plt.rcParams['xtick.labelbottom'] = False\n",
    "plt.rcParams['xtick.top'] = plt.rcParams['xtick.labeltop'] = True\n"
   ]
  },
  {
   "cell_type": "code",
   "execution_count": null,
   "metadata": {
    "scrolled": false
   },
   "outputs": [],
   "source": []
  },
  {
   "cell_type": "code",
   "execution_count": null,
   "metadata": {},
   "outputs": [],
   "source": []
  },
  {
   "cell_type": "code",
   "execution_count": null,
   "metadata": {},
   "outputs": [],
   "source": []
  },
  {
   "cell_type": "code",
   "execution_count": null,
   "metadata": {},
   "outputs": [],
   "source": []
  },
  {
   "cell_type": "code",
   "execution_count": null,
   "metadata": {},
   "outputs": [],
   "source": []
  }
 ],
 "metadata": {
  "kernelspec": {
   "display_name": "saurav-main-env",
   "language": "python",
   "name": "saurav-main-env"
  },
  "language_info": {
   "codemirror_mode": {
    "name": "ipython",
    "version": 3
   },
   "file_extension": ".py",
   "mimetype": "text/x-python",
   "name": "python",
   "nbconvert_exporter": "python",
   "pygments_lexer": "ipython3",
   "version": "3.7.5"
  }
 },
 "nbformat": 4,
 "nbformat_minor": 2
}
